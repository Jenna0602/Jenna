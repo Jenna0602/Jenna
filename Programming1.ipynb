{
  "nbformat": 4,
  "nbformat_minor": 0,
  "metadata": {
    "colab": {
      "name": "Copy of Programming Assignment 1.ipynb",
      "provenance": [],
      "collapsed_sections": [],
      "include_colab_link": true
    },
    "kernelspec": {
      "name": "python3",
      "display_name": "Python 3"
    }
  },
  "cells": [
    {
      "cell_type": "markdown",
      "metadata": {
        "id": "view-in-github",
        "colab_type": "text"
      },
      "source": [
        "<a href=\"https://colab.research.google.com/github/Jenna0602/Jenna/blob/master/Copy_of_Programming_Assignment_1.ipynb\" target=\"_parent\"><img src=\"https://colab.research.google.com/assets/colab-badge.svg\" alt=\"Open In Colab\"/></a>"
      ]
    },
    {
      "cell_type": "markdown",
      "metadata": {
        "id": "NVzeTmPnZt4s"
      },
      "source": [
        "Members:  \r\n",
        "> Andrew Hoffman  \r\n",
        "Jing Ma  \r\n",
        "Manoj Thapa\r\n",
        "\r\n",
        "Instructor: Dr. Ziping Liu  \r\n",
        "Course: CS 603_740  \r\n",
        "Date: February 7th, 2021\r\n"
      ]
    },
    {
      "cell_type": "markdown",
      "metadata": {
        "id": "OkIgA5n-X5un"
      },
      "source": [
        "1 Write a Python program to count the number of strings where the string length is 2 or more and the string is a palindrome from the list of strings.Sample: ['abdefc', 'xygyz', 'abeba', '123321']output: 2"
      ]
    },
    {
      "cell_type": "code",
      "metadata": {
        "id": "jAVJDDvBXWdW",
        "colab": {
          "base_uri": "https://localhost:8080/"
        },
        "outputId": "87d524a7-a1c8-47a5-c11b-4c53dc400e32"
      },
      "source": [
        "def isPalindrome(s):\r\n",
        "    return len(s) >= 2 and s == s[::-1]\r\n",
        " \r\n",
        "list = ['abdefc', 'xygyz', 'abeba', '123321', \"1\"]\r\n",
        "count = 0\r\n",
        "\r\n",
        "for s in list:\r\n",
        "\r\n",
        "    if isPalindrome(s):\r\n",
        "\r\n",
        "        count += 1\r\n",
        "        \r\n",
        "print(count)"
      ],
      "execution_count": null,
      "outputs": [
        {
          "output_type": "stream",
          "text": [
            "2\n"
          ],
          "name": "stdout"
        }
      ]
    },
    {
      "cell_type": "markdown",
      "metadata": {
        "id": "5qn6dSPaX_nR"
      },
      "source": [
        "2 Write a Python function that takes two lists and returns the number of common members"
      ]
    },
    {
      "cell_type": "code",
      "metadata": {
        "id": "o0Aq0KxIYFd4",
        "colab": {
          "base_uri": "https://localhost:8080/"
        },
        "outputId": "1fb62318-a310-4d15-bcc9-b0cc19a436d2"
      },
      "source": [
        "def common_members(a,b):\r\n",
        "    a = set(a)\r\n",
        "    b = set(b)\r\n",
        "    \r\n",
        "    if a & b :\r\n",
        "        print(a & b)\r\n",
        "    else:\r\n",
        "        print(\"No common elements\")\r\n",
        "a=[2,3,6,8,9,65,5]\r\n",
        "b=[5,7,6,8,9,10,11]\r\n",
        "common_members(a,b)"
      ],
      "execution_count": null,
      "outputs": [
        {
          "output_type": "stream",
          "text": [
            "{8, 9, 5, 6}\n"
          ],
          "name": "stdout"
        }
      ]
    },
    {
      "cell_type": "markdown",
      "metadata": {
        "id": "G-AV-lo9YGOS"
      },
      "source": [
        "3 Write a Python program to split a list into a list of dictionaries, with odd item as key and even item as value Sample: ['a', 'b', 'c', 'd', 'e', 'f', 'g', 'h', 'i', 'j', 'k', 'l', 'm', 'n']Output: [{‘a’:’b’},{‘c’:’d’},{‘e’:’f’},{‘g’:’h’},{‘i’:’j’},{‘k’:’l’},{‘m’:’n’}]"
      ]
    },
    {
      "cell_type": "code",
      "metadata": {
        "id": "XhUy36s6YJnV",
        "colab": {
          "base_uri": "https://localhost:8080/"
        },
        "outputId": "6f41b4d3-a27e-436b-8a2d-d1f8d54b7577"
      },
      "source": [
        "my_list = ['a', 'b', 'c', 'd', 'e', 'f', 'g', 'h', 'i', 'j', 'k', 'l', 'm', 'n'] \r\n",
        "my_dict = dict(zip(my_list[::2], my_list[1::2]))\r\n",
        "final_list = []\r\n",
        "for item in my_dict.items():\r\n",
        "    \r\n",
        "    tups = []\r\n",
        "    \r\n",
        "    tups.append(item)\r\n",
        "    \r\n",
        "    final_list.append(dict(tups))\r\n",
        "print(final_list)"
      ],
      "execution_count": null,
      "outputs": [
        {
          "output_type": "stream",
          "text": [
            "[{'a': 'b'}, {'c': 'd'}, {'e': 'f'}, {'g': 'h'}, {'i': 'j'}, {'k': 'l'}, {'m': 'n'}]\n"
          ],
          "name": "stdout"
        }
      ]
    },
    {
      "cell_type": "markdown",
      "metadata": {
        "id": "o8bPtaE6YKJ5"
      },
      "source": [
        "4 Write a Python program to find a word which has the most number of letters from a list of words."
      ]
    },
    {
      "cell_type": "code",
      "metadata": {
        "id": "ocOYwe9MYMWS",
        "colab": {
          "base_uri": "https://localhost:8080/"
        },
        "outputId": "cff83a78-af7a-45d6-df9a-abcfad88e36b"
      },
      "source": [
        "longestWord = \"\"\r\n",
        "\r\n",
        "wordsList = [\"apple\", \"banana\", \"strawberry\", \"cherry\", \"grape\", \"blueberry\"]\r\n",
        "\r\n",
        "#If there are multiple words that have the most letters, \r\n",
        "#the one appearing last in the list will be used.\r\n",
        "for word in wordsList:\r\n",
        "  if len(word) >= len(longestWord):\r\n",
        "    longestWord = word\r\n",
        "\r\n",
        "print(f\"The list words is: {wordsList}\")\r\n",
        "\r\n",
        "print()\r\n",
        "\r\n",
        "print(f\"The longest word in the list is \\\"{longestWord}\\\".\")"
      ],
      "execution_count": null,
      "outputs": [
        {
          "output_type": "stream",
          "text": [
            "The list words is: ['apple', 'banana', 'strawberry', 'cherry', 'grape', 'blueberry']\n",
            "\n",
            "The longest word in the list is \"strawberry\".\n"
          ],
          "name": "stdout"
        }
      ]
    },
    {
      "cell_type": "markdown",
      "metadata": {
        "id": "MoXev3irYMok"
      },
      "source": [
        "5 Write a Python program to print all common values in a dictionary"
      ]
    },
    {
      "cell_type": "code",
      "metadata": {
        "id": "X6Y-7y6YYOw3",
        "colab": {
          "base_uri": "https://localhost:8080/"
        },
        "outputId": "9137b7c8-6240-4c32-8431-cfac2a2de839"
      },
      "source": [
        "#The duplicated values should be 1.1 and 2.5\r\n",
        "\r\n",
        "wordDict = {\r\n",
        "    \"word1\" : 1.1,\r\n",
        "    \"word2\" : 2.5,\r\n",
        "    \"word3\" : 1.1,\r\n",
        "    \"word4\" : 4.8,\r\n",
        "    \"word5\" : 5.43,\r\n",
        "    \"word6\" : 1.1,\r\n",
        "    \"word7\" : 2.5,\r\n",
        "    \"word8\" : 6.0,\r\n",
        "    \"word9\" : 7.15\r\n",
        "}\r\n",
        "\r\n",
        "values = set()\r\n",
        "duplicates = []\r\n",
        "\r\n",
        "for key, value in wordDict.items():\r\n",
        "  if value not in values:\r\n",
        "    values.add(value)\r\n",
        "  elif value not in duplicates:\r\n",
        "    duplicates.append(value)\r\n",
        "\r\n",
        "print(\"The original dictionary is:\")\r\n",
        "print(wordDict)\r\n",
        "\r\n",
        "print()\r\n",
        "\r\n",
        "print(\"The comman values in the dictionary are: \", end=\"\")\r\n",
        "for word in duplicates:\r\n",
        "  print(word, end=\", \")\r\n"
      ],
      "execution_count": null,
      "outputs": [
        {
          "output_type": "stream",
          "text": [
            "The original dictionary is:\n",
            "{'word1': 1.1, 'word2': 2.5, 'word3': 1.1, 'word4': 4.8, 'word5': 5.43, 'word6': 1.1, 'word7': 2.5, 'word8': 6.0, 'word9': 7.15}\n",
            "\n",
            "The comman values in the dictionary are: 1.1, 2.5, "
          ],
          "name": "stdout"
        }
      ]
    },
    {
      "cell_type": "markdown",
      "metadata": {
        "id": "YvamRSFMYRGg"
      },
      "source": [
        "6 Write a Python program to combine two dictionaries based on their keys, if two keys are the same, sum their values together"
      ]
    },
    {
      "cell_type": "code",
      "metadata": {
        "id": "XOr3oSovYSQ7",
        "colab": {
          "base_uri": "https://localhost:8080/"
        },
        "outputId": "abf56ba9-0bee-4da5-f080-5eced0ac01e5"
      },
      "source": [
        "#Word1 and word 4 are the duplicated keys\r\n",
        "\r\n",
        "dict1 = {\r\n",
        "    \"word1\" : 1.1,\r\n",
        "    \"word2\" : 2.5,\r\n",
        "    \"word3\" : 1.1,\r\n",
        "    \"word4\" : 4.8\r\n",
        "}\r\n",
        "\r\n",
        "dict2 = {\r\n",
        "    \"word4\" : 4.11,\r\n",
        "    \"word6\" : 3.32,\r\n",
        "    \"word1\" : 2.0,\r\n",
        "    \"word7\" : 6.9\r\n",
        "}\r\n",
        "\r\n",
        "mergedDict = dict1.copy()\r\n",
        "\r\n",
        "for key, value in dict2.items():\r\n",
        "  if key in mergedDict:\r\n",
        "    mergedDict[key] = mergedDict[key] + value\r\n",
        "  else:\r\n",
        "    mergedDict[key] = value\r\n",
        "\r\n",
        "print(\"First Dictionary:\")\r\n",
        "print(dict1)\r\n",
        "\r\n",
        "print()\r\n",
        "\r\n",
        "print(\"Second Dictionary:\")\r\n",
        "print(dict2)\r\n",
        "\r\n",
        "print()\r\n",
        "\r\n",
        "print(\"Merged Dictionary:\")\r\n",
        "print(mergedDict)"
      ],
      "execution_count": null,
      "outputs": [
        {
          "output_type": "stream",
          "text": [
            "First Dictionary:\n",
            "{'word1': 1.1, 'word2': 2.5, 'word3': 1.1, 'word4': 4.8}\n",
            "\n",
            "Second Dictionary:\n",
            "{'word4': 4.11, 'word6': 3.32, 'word1': 2.0, 'word7': 6.9}\n",
            "\n",
            "Merged Dictionary:\n",
            "{'word1': 3.1, 'word2': 2.5, 'word3': 1.1, 'word4': 8.91, 'word6': 3.32, 'word7': 6.9}\n"
          ],
          "name": "stdout"
        }
      ]
    },
    {
      "cell_type": "markdown",
      "metadata": {
        "id": "kXagyYAPYTDM"
      },
      "source": [
        "7 Write a Python program to remove tuple(s)which has certain given value from a list of tuples"
      ]
    },
    {
      "cell_type": "code",
      "metadata": {
        "id": "mkKafs4TYVtm",
        "colab": {
          "base_uri": "https://localhost:8080/"
        },
        "outputId": "31bafa4f-c5dd-4646-d547-6546099c5b91"
      },
      "source": [
        "# This program prints the items greater than 50, or \"removes\" items less than 50. \n",
        "listTuples = [(85, 'Math'), (70, 'English'), (45, 'Science'), (30, 'Computer'), (60, 'History')]\n",
        "newTuples = []\n",
        "for i in listTuples:\n",
        "  if i [0] > 50:\n",
        "    newTuples.append (i)\n",
        "print(\"Result after removing numbers (items) more than 50:\", newTuples)\n",
        "print(\"------------------------------------------------------------------------------------------------------------------------\")\n",
        "# Remove items by counting length.\n",
        "FruitItems = [(\"Apple\"), (\"Peach\"), (\"Orange\"), (\"Banana\"), (\"Strawberry\")]\n",
        "for i in FruitItems:\n",
        "  if len(i)<6:\n",
        "    print(i,\"count less than 6 words.\")\n",
        "\n",
        "print(\"--------------------------------------------------------------------------------------------------------------------------\")\n",
        "FruitItems = [(\"Apple\"), (\"Peach\"), (\"Orange\"), (\"Banana\"), (\"Strawberry\")]\n",
        "# simple program. remove by calling item and index.\n",
        "FruitItems = [(\"Apple\"), (\"Peach\"), (\"Orange\"), (\"Banana\"), (\"Strawberry\")]\n",
        "FruitItems.remove(\"Apple\") # Remove function\n",
        "print(\"Result after Removing Apple from the a list of tuples by calling item:\", FruitItems)\n",
        "del FruitItems[1] # del function\n",
        "print(\"Result after Removing Apple from the a list of tuples by calling index del function:\", FruitItems)\n",
        "FruitItems.pop(2) # pop function\n",
        "print(\"Result after Removing Apple from the a list of tuples by calling index pop function:\", FruitItems)\n"
      ],
      "execution_count": null,
      "outputs": [
        {
          "output_type": "stream",
          "text": [
            "Result after removing numbers (items) more than 50: [(85, 'Math'), (70, 'English'), (60, 'History')]\n",
            "------------------------------------------------------------------------------------------------------------------------\n",
            "Apple count less than 6 words.\n",
            "Peach count less than 6 words.\n",
            "--------------------------------------------------------------------------------------------------------------------------\n",
            "Result after Removing Apple from the a list of tuples by calling item: ['Peach', 'Orange', 'Banana', 'Strawberry']\n",
            "Result after Removing Apple from the a list of tuples by calling index del function: ['Peach', 'Banana', 'Strawberry']\n",
            "Result after Removing Apple from the a list of tuples by calling index pop function: ['Peach', 'Banana']\n"
          ],
          "name": "stdout"
        }
      ]
    },
    {
      "cell_type": "markdown",
      "metadata": {
        "id": "moGMxnzPYV_S"
      },
      "source": [
        "8 Write a Python program to sort a list of tuples by the first element in the tuple"
      ]
    },
    {
      "cell_type": "code",
      "metadata": {
        "id": "x-mpw0d0YY4z",
        "colab": {
          "base_uri": "https://localhost:8080/"
        },
        "outputId": "4ca7e078-9f2d-4f34-8818-5a07bad2b6c7"
      },
      "source": [
        "# Simple program to sort a list of tuples by the first element in the tuple. \n",
        "# This program sort alphabetically.                                                   \n",
        "nameAge = [(\"Dave\", 30), (\"John\", 28),(\"Brain\", 25),(\"Anthony\", 32),(\"Chris\", 22)]  \n",
        "sort = sorted(nameAge)\n",
        "print(sort)\n",
        "print(\"-------------------------------------------------------------------------\")    \n",
        "# This program sort numbers in ascending order.\n",
        "num = [(90), (70), (30), (10), (60), (90), (40), (20), (100), (80)]\n",
        "num.sort()\n",
        "print(num)\n",
        "print(\"-------------------------------------------------------------------------\")  \n",
        "# This program sort numbers in decending order.\n",
        "num = [(90), (70), (30), (10), (60), (90), (40), (20), (100), (80)]\n",
        "num.sort(reverse=True) \n",
        "print(num)\n",
        "print(\"-------------------------------------------------------------------------\")  \n",
        "# sorting with lambda.\n",
        "num = [(7,8,9), (1,2,3),(4,5,6)]                                                \n",
        "sort = sorted (num, key = lambda tup: tup [1])\n",
        "print(sort) "
      ],
      "execution_count": null,
      "outputs": [
        {
          "output_type": "stream",
          "text": [
            "[('Anthony', 32), ('Brain', 25), ('Chris', 22), ('Dave', 30), ('John', 28)]\n",
            "-------------------------------------------------------------------------\n",
            "[10, 20, 30, 40, 60, 70, 80, 90, 90, 100]\n",
            "-------------------------------------------------------------------------\n",
            "[100, 90, 90, 80, 70, 60, 40, 30, 20, 10]\n",
            "-------------------------------------------------------------------------\n",
            "[(1, 2, 3), (4, 5, 6), (7, 8, 9)]\n"
          ],
          "name": "stdout"
        }
      ]
    }
  ]
}
