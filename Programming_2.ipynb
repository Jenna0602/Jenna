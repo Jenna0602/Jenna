{
 "cells": [
  {
   "cell_type": "markdown",
   "metadata": {
    "id": "8DN_aKvKx0_3"
   },
   "source": [
    "Members:  \n",
    "> Andrew Hoffman  \n",
    "Jing Ma  \n",
    "Manoj Thapa\n",
    "\n",
    "Instructor: Dr. Ziping Liu  \n",
    "Course: CS 603_740  \n",
    "Date: February 14th, 2021\n",
    "\n",
    "\n",
    "\n"
   ]
  },
  {
   "cell_type": "markdown",
   "metadata": {
    "id": "ADa_1H39zrlY"
   },
   "source": [
    "**1.** Using our class example unit2_07 Employee class, create five different employees who earn different salary and are different age. Then use **List comprehension** to find the top three salary employeesand display all of their information."
   ]
  },
  {
   "cell_type": "code",
   "execution_count": 14,
   "metadata": {
    "colab": {
     "base_uri": "https://localhost:8080/"
    },
    "id": "KOHCMB8kxz_Z",
    "outputId": "afa3e15c-6367-4833-9c80-59c0a8788c9f"
   },
   "outputs": [
    {
     "name": "stdout",
     "output_type": "stream",
     "text": [
      "Top Three Employees With Highest Salary Are: \n",
      "EMPLOYEE 1:\n",
      "Name: John, Age: 29, Profession: Java Developer, Salary: $120,000.00\n",
      "-------------------------------------------------------------------------------------\n",
      "EMPLOYEE 2:\n",
      "Name: Ramesh, Age: 27, Profession: Data Analyst, Salary: $115,000.00\n",
      "-------------------------------------------------------------------------------------\n",
      "EMPLOYEE 3:\n",
      "Name: Tomo, Age: 32, Profession: Graphic Designer, Salary: $110,000.00\n",
      "-------------------------------------------------------------------------------------\n"
     ]
    }
   ],
   "source": [
    "class Employee:    \n",
    "    def __init__(self,name,age,profession,salary):\n",
    "        self.name = name\n",
    "        self.age = age\n",
    "        self.profession = profession\n",
    "        self.salary = salary\n",
    "    \n",
    "    def work(self):\n",
    "        print(f\"Look, my name is {self.name} and I'm working for ${self.salary:,.2f} per year!\")\n",
    "                \n",
    "    def displayEmployee (self):\n",
    "        print (\"Name: {0}, Age: {1}, Profession: {2}, Salary: ${3:,.2f}\" . format (self.name, self.age, self.profession, self.salary))\n",
    "        \n",
    "emp1 = Employee (\"Mike\", 25, \"Python Developer\", 90000)\n",
    "emp2 = Employee (\"John\",29, \"Java Developer\", 120000 )\n",
    "emp3 = Employee (\"Tomo\", 32, \"Graphic Designer\",110000 )\n",
    "emp4 = Employee (\"Ramesh\", 27, \"Data Analyst\", 115000)\n",
    "emp5 = Employee (\" Kate\", 30, \"Business Analyst\", 100000)\n",
    "\n",
    "# Create the list of employee objects\n",
    "employeeList = [emp1,emp2,emp3,emp4,emp5]\n",
    "\n",
    "# Sort the list\n",
    "employeeList.sort(key=lambda x: x.salary, reverse=True)\n",
    "\n",
    "print(\"Top Three Employees With Highest Salary Are: \")\n",
    "#sort the list of the employee objects by salary respectively. \n",
    "top3Salary = [emp for emp in employeeList][0:3]\n",
    "for i in range(len(top3Salary)):\n",
    "    print(\"EMPLOYEE {0}:\". format(i+1))\n",
    "    top3Salary[i].displayEmployee()\n",
    "    \n",
    "    print(\"-------------------------------------------------------------------------------------\")\n",
    "    "
   ]
  },
  {
   "cell_type": "markdown",
   "metadata": {
    "id": "DpoAaQedz2YO"
   },
   "source": [
    "**2.** Create a Company class that holds instances of employees.Then assign five employee instances to an instance of the Company class. Next, add a work() method to both the Company and Employee classes so that when you call the method on the Company class, each Employee instance assigned to the Employeeclass will work().Test the Company’s work().\n"
   ]
  },
  {
   "cell_type": "code",
   "execution_count": 15,
   "metadata": {
    "colab": {
     "base_uri": "https://localhost:8080/"
    },
    "id": "FzUBjv3Oz6BB",
    "outputId": "62db85d4-17c1-4efc-f3aa-5a04a5068834"
   },
   "outputs": [
    {
     "name": "stdout",
     "output_type": "stream",
     "text": [
      "Look, my name is Mike and I'm working for $90,000.00 per year!\n",
      "Look, my name is John and I'm working for $120,000.00 per year!\n",
      "Look, my name is Tomo and I'm working for $110,000.00 per year!\n",
      "Look, my name is Ramesh and I'm working for $115,000.00 per year!\n",
      "Look, my name is Kate and I'm working for $100,000.00 per year!\n"
     ]
    }
   ],
   "source": [
    "class Company:\n",
    "    def __init__(self, employees = []):\n",
    "        self.employees = employees\n",
    "    \n",
    "    def addEmployee(self, employee):\n",
    "        self.employees.append(employee)\n",
    "            \n",
    "    def work(self):\n",
    "        for employee in self.employees:\n",
    "            employee.work()\n",
    "\n",
    "company = Company()\n",
    "company.addEmployee(Employee(\"Mike\", 25, \"Python Developer\", 90000))\n",
    "company.addEmployee(Employee(\"John\",29, \"Java Developer\", 120000))\n",
    "company.addEmployee(Employee(\"Tomo\", 32, \"Graphic Designer\",110000))\n",
    "company.addEmployee(Employee(\"Ramesh\", 27, \"Data Analyst\", 115000))\n",
    "company.addEmployee(Employee(\"Kate\", 30, \"Business Analyst\", 100000))\n",
    "        \n",
    "company.work() "
   ]
  },
  {
   "cell_type": "markdown",
   "metadata": {
    "id": "0nc0UWSdz6jh"
   },
   "source": [
    "**3.** Create ten different employees from a file: read employee data from a file(.txt or .json), then **use generator** to create a list of ten employees, sort the employee list by their name, **use generator** to raise every employee’s salary by 5%, then **use generator** to create a dictionary of the employees where the keys of the dictionary items are from range(10) and print them out.  Furthermore, **use itertools’s groupby()** method to group employees by age group(younger than 20, 21-30, 31-50, 51-65, older than 65)"
   ]
  },
  {
   "cell_type": "code",
   "execution_count": 16,
   "metadata": {
    "colab": {
     "base_uri": "https://localhost:8080/"
    },
    "id": "qds-I9Wn0DM4",
    "outputId": "6f8634fd-c48d-4b0b-f009-05dc5b6b780e"
   },
   "outputs": [
    {
     "name": "stdout",
     "output_type": "stream",
     "text": [
      "Employees sorted by name with 5% salary increase, printed with index: \n",
      "\n",
      "Index: 0 - Employee:  Name: Chad Davis, Age: 19, Profession: Hairdresser, Salary: $99,324.75\n",
      "\n",
      "Index: 1 - Employee:  Name: Horacio Castro, Age: 38, Profession: Writer, Salary: $43,165.50\n",
      "\n",
      "Index: 2 - Employee:  Name: James Norris, Age: 44, Profession: Web Developer, Salary: $79,922.85\n",
      "\n",
      "Index: 3 - Employee:  Name: Joseph Crouch, Age: 32, Profession: Editor, Salary: $78,646.05\n",
      "\n",
      "Index: 4 - Employee:  Name: Josh Carver, Age: 20, Profession: Housekeeper, Salary: $39,408.60\n",
      "\n",
      "Index: 5 - Employee:  Name: Julie Nelson, Age: 24, Profession: Compliance Officer, Salary: $113,751.75\n",
      "\n",
      "Index: 6 - Employee:  Name: Margaret Scott, Age: 57, Profession: Paralegal, Salary: $154,837.20\n",
      "\n",
      "Index: 7 - Employee:  Name: Michael Harris, Age: 67, Profession: Computer Programmer, Salary: $156,441.60\n",
      "\n",
      "Index: 8 - Employee:  Name: Sarah Henson, Age: 65, Profession: Insurance Agent, Salary: $90,549.90\n",
      "\n",
      "Index: 9 - Employee:  Name: Vanessa Lopez, Age: 25, Profession: Dental Hygienist, Salary: $103,689.60\n",
      "\n",
      "-------------------------------------------------------------------------------------\n",
      "\n",
      "Employees grouped by age: \n",
      "\n",
      "Group: 21 and under\n",
      "Name: Chad Davis, Age: 19, Profession: Hairdresser, Salary: $99,324.75\n",
      "Name: Josh Carver, Age: 20, Profession: Housekeeper, Salary: $39,408.60\n",
      "\n",
      "Group: 21-30\n",
      "Name: Julie Nelson, Age: 24, Profession: Compliance Officer, Salary: $113,751.75\n",
      "Name: Vanessa Lopez, Age: 25, Profession: Dental Hygienist, Salary: $103,689.60\n",
      "\n",
      "Group: 31-50\n",
      "Name: Joseph Crouch, Age: 32, Profession: Editor, Salary: $78,646.05\n",
      "Name: Horacio Castro, Age: 38, Profession: Writer, Salary: $43,165.50\n",
      "Name: James Norris, Age: 44, Profession: Web Developer, Salary: $79,922.85\n",
      "\n",
      "Group: 51-65\n",
      "Name: Margaret Scott, Age: 57, Profession: Paralegal, Salary: $154,837.20\n",
      "Name: Sarah Henson, Age: 65, Profession: Insurance Agent, Salary: $90,549.90\n",
      "\n",
      "Group: Over 65\n",
      "Name: Michael Harris, Age: 67, Profession: Computer Programmer, Salary: $156,441.60\n",
      "\n"
     ]
    }
   ],
   "source": [
    "import itertools\n",
    "import json\n",
    "\n",
    "def obtainJsonData():\n",
    "    with open('employees.json', mode='r') as f:\n",
    "        return json.load(f)\n",
    "\n",
    "def employeeGenerator(employees):\n",
    "    for e in employees[\"employees\"]:\n",
    "        yield Employee(e[\"name\"], e[\"age\"], e[\"profession\"], e[\"salary\"])\n",
    "\n",
    "def sortEmployeesByName(employees):\n",
    "    return sorted(employees, key=lambda e: e.name)\n",
    "\n",
    "def raiseEmployeeSalary(employees):\n",
    "    for employee in employees:\n",
    "        employee.salary *= 1.05\n",
    "        yield employee\n",
    "\n",
    "def createUserDict(employees):\n",
    "    for index in range(10):\n",
    "        yield (index, employees[index])\n",
    "\n",
    "def groupByAge(employees):\n",
    "    def getGroup(employee):\n",
    "        if employee.age <= 20:\n",
    "            return \"21 and under\"\n",
    "        elif 20 < employee.age <= 30:\n",
    "            return \"21-30\"\n",
    "        elif 30 < employee.age <= 50:\n",
    "            return \"31-50\"\n",
    "        elif 50 < employee.age <= 65:\n",
    "            return \"51-65\"\n",
    "        else:\n",
    "            return \"Over 65\"\n",
    "    employees = sorted(employees, key=lambda e:e.age)\n",
    "    return itertools.groupby(employees, getGroup)\n",
    "\n",
    "originalEmployees = list(employeeGenerator(obtainJsonData()))\n",
    "sortedEmployess = sortEmployeesByName(originalEmployees)\n",
    "modifiedEmployees = list(raiseEmployeeSalary(sortedEmployess))\n",
    "userDict = {k:v for (k, v) in createUserDict(modifiedEmployees)}\n",
    "groupedEmployees = groupByAge(modifiedEmployees)\n",
    "\n",
    "print(\"Employees sorted by name with 5% salary increase, printed with index: \")\n",
    "print()\n",
    "for key, value in userDict.items():\n",
    "    print(f\"Index: {key} - Employee: \", end=\" \")\n",
    "    value.displayEmployee()\n",
    "    print()\n",
    "    \n",
    "print(\"-------------------------------------------------------------------------------------\")\n",
    "print()\n",
    "\n",
    "print(\"Employees grouped by age: \")\n",
    "print()\n",
    "\n",
    "for key, group in groupedEmployees:\n",
    "    print(f\"Group: {key}\")\n",
    "    for e in group:\n",
    "        e.displayEmployee()\n",
    "    print()"
   ]
  },
  {
   "cell_type": "markdown",
   "metadata": {
    "id": "OUX3ypsnz_MH"
   },
   "source": [
    "**4.** Create a EmployeeD class which is a **subclass** of UserDict and overrides \\_\\_getitem\\_\\_ and \\_\\_setitem\\_\\_ methods.  Then read from your provided file to create a sequence of EmployeeD instances **using generator function** and print the total salaries."
   ]
  },
  {
   "cell_type": "code",
   "execution_count": 17,
   "metadata": {
    "colab": {
     "base_uri": "https://localhost:8080/"
    },
    "id": "mk9mzL4vz-yH",
    "outputId": "20b5711e-98e9-483c-cdfe-14a0c16f19fd"
   },
   "outputs": [
    {
     "name": "stdout",
     "output_type": "stream",
     "text": [
      "Added to dictionary: \"James NorrisWeb Developer\".\n",
      "\n",
      "Added to dictionary: \"Chad DavisHairdresser\".\n",
      "\n",
      "Added to dictionary: \"Josh CarverHousekeeper\".\n",
      "\n",
      "Added to dictionary: \"Margaret ScottParalegal\".\n",
      "\n",
      "Added to dictionary: \"Joseph CrouchEditor\".\n",
      "\n",
      "Added to dictionary: \"Sarah HensonInsurance Agent\".\n",
      "\n",
      "Added to dictionary: \"Horacio CastroWriter\".\n",
      "\n",
      "Added to dictionary: \"Julie NelsonCompliance Officer\".\n",
      "\n",
      "Added to dictionary: \"Vanessa LopezDental Hygienist\".\n",
      "\n",
      "Added to dictionary: \"Michael HarrisComputer Programmer\".\n",
      "\n",
      "Accessed from dictionary: key \"James NorrisWeb Developer\".\n",
      "\n",
      "Accessed from dictionary: key \"Chad DavisHairdresser\".\n",
      "\n",
      "Accessed from dictionary: key \"Josh CarverHousekeeper\".\n",
      "\n",
      "Accessed from dictionary: key \"Margaret ScottParalegal\".\n",
      "\n",
      "Accessed from dictionary: key \"Joseph CrouchEditor\".\n",
      "\n",
      "Accessed from dictionary: key \"Sarah HensonInsurance Agent\".\n",
      "\n",
      "Accessed from dictionary: key \"Horacio CastroWriter\".\n",
      "\n",
      "Accessed from dictionary: key \"Julie NelsonCompliance Officer\".\n",
      "\n",
      "Accessed from dictionary: key \"Vanessa LopezDental Hygienist\".\n",
      "\n",
      "Accessed from dictionary: key \"Michael HarrisComputer Programmer\".\n",
      "\n",
      "Total Salary: $914,036.00\n"
     ]
    }
   ],
   "source": [
    "from collections import UserDict\n",
    "import itertools\n",
    "import json\n",
    "\n",
    "class EmployeeD(UserDict):\n",
    "  def __init__(self, *args):\n",
    "        UserDict.__init__(self, args)    \n",
    "    \n",
    "  def __getitem__(self, key):\n",
    "      val = UserDict.__getitem__(self, key)\n",
    "      print(f\"Accessed from dictionary: key \\\"{key}\\\".\")        \n",
    "      print()\n",
    "      return val\n",
    "    \n",
    "  def __setitem__(self, key, employee):\n",
    "      UserDict.__setitem__(self, key, employee)\n",
    "      print(f\"Added to dictionary: \\\"{key}\\\".\")\n",
    "      print()\n",
    "        \n",
    "  def getDictKey(employee):\n",
    "      return employee.name + employee.profession\n",
    "\n",
    "def createEmployeeDDict():\n",
    "  employeeDict = EmployeeD()\n",
    "  for employee in employeeGenerator(obtainJsonData()):\n",
    "    employeeDict[EmployeeD.getDictKey(employee)] = employee\n",
    "  return employeeDict\n",
    "\n",
    "def getTotalSalary(employees):\n",
    "  salaries = list(map(lambda x:x.salary, employees))\n",
    "  return sum(salaries)\n",
    "    \n",
    "originalEmployees = createEmployeeDDict()\n",
    "print(f\"Total Salary: ${getTotalSalary(originalEmployees.values()):,.2f}\")"
   ]
  },
  {
   "cell_type": "markdown",
   "metadata": {
    "id": "GKVYAPhc0E1S"
   },
   "source": [
    "**5.** **Using what we have learned in Unit2** to analyze **provided real estate transaction .csv file**, you can use SP500 example as reference.  Please find the highest and lowest transactions for each category of real estate: condo, residential and multi-family.Please note you are **not allowed to use Pandas** for this problem."
   ]
  },
  {
   "cell_type": "code",
   "execution_count": 18,
   "metadata": {
    "colab": {
     "base_uri": "https://localhost:8080/"
    },
    "id": "axjRJdLc0LUc",
    "outputId": "3d5c8f3a-c454-4de5-8b60-6b70b980bd45"
   },
   "outputs": [
    {
     "name": "stdout",
     "output_type": "stream",
     "text": [
      "Group: Condo\n",
      "Lowest Transaction: $40,000.00\n",
      "Highest Transaction: $360,000.00\n",
      "\n",
      "Group: Multi-Family\n",
      "Lowest Transaction: $100,000.00\n",
      "Highest Transaction: $416,767.00\n",
      "\n",
      "Group: Residential\n",
      "Lowest Transaction: $1,551.00\n",
      "Highest Transaction: $884,790.00\n",
      "\n",
      "Group: Unkown\n",
      "Lowest Transaction: $275,000.00\n",
      "Highest Transaction: $275,000.00\n",
      "\n"
     ]
    }
   ],
   "source": [
    "import csv\n",
    "import itertools\n",
    "\n",
    "#define the transaction class\n",
    "class Transaction:     \n",
    "    def __init__(self,street,city,zip,state,beds,baths,sqFt,type,saleDate,price,latitude,longitude):\n",
    "        self.street = street\n",
    "        self.city = city\n",
    "        self.zip = zip\n",
    "        self.state = state\n",
    "        self.beds = beds\n",
    "        self.baths = baths\n",
    "        self.sqFt = sqFt\n",
    "        self.type = type \n",
    "        self.saleDate = saleDate\n",
    "        self.price = price\n",
    "        self.latitude = latitude\n",
    "        self.longitude = longitude\n",
    "\n",
    "#get transactions from csv file\n",
    "def getTransactionList():\n",
    "  transactions = []\n",
    "  with open('Sacramentorealestatetransactions.csv', newline='') as file:\n",
    "    reader = csv.reader(file)\n",
    "    # This skips the first row of the CSV file.\n",
    "    next(reader)\n",
    "    for row in reader:\n",
    "      transaction = Transaction(row[0],row[1],row[2],row[3],int(row[4]),int(row[5]),float(row[6]),row[7],row[8],float(row[9]),float(row[10]),float(row[11]))      \n",
    "      transactions.append(transaction)\n",
    "  return transactions\n",
    "\n",
    "#group transactions by their type\n",
    "def groupByType(transactions):\n",
    "  transactions = sorted(transactions, key=lambda t:t.type)\n",
    "  return itertools.groupby(transactions, key=lambda t:t.type)\n",
    "\n",
    "#get transactions, group them, then loop through groups and print out requested info.\n",
    "transactions = getTransactionList()\n",
    "groupedTransactions = groupByType(transactions)\n",
    "\n",
    "for key, group in groupedTransactions:\n",
    "  prices = [x.price for x in group]\n",
    "  print(f\"Group: {key}\")\n",
    "  print(f\"Lowest Transaction: ${min(prices):,.2f}\")\n",
    "  print(f\"Highest Transaction: ${max(prices):,.2f}\")  \n",
    "  print()"
   ]
  },
  {
   "cell_type": "code",
   "execution_count": null,
   "metadata": {},
   "outputs": [],
   "source": []
  }
 ],
 "metadata": {
  "colab": {
   "name": "Programming_2_Assignment.ipynb",
   "provenance": [],
   "toc_visible": true
  },
  "kernelspec": {
   "display_name": "Python 3",
   "language": "python",
   "name": "python3"
  },
  "language_info": {
   "codemirror_mode": {
    "name": "ipython",
    "version": 3
   },
   "file_extension": ".py",
   "mimetype": "text/x-python",
   "name": "python",
   "nbconvert_exporter": "python",
   "pygments_lexer": "ipython3",
   "version": "3.8.5"
  }
 },
 "nbformat": 4,
 "nbformat_minor": 1
}
